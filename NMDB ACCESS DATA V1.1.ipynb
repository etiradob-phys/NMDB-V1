{
 "cells": [
  {
   "cell_type": "markdown",
   "metadata": {},
   "source": [
    "# Neutron Monitor Database (NMDB) Access Data V1"
   ]
  },
  {
   "cell_type": "code",
   "execution_count": 163,
   "metadata": {},
   "outputs": [],
   "source": [
    "import requests\n",
    "import xarray as xr\n",
    "import pandas as pd\n",
    "import os\n",
    "import zipfile\n",
    "import urllib\n",
    "from bs4 import BeautifulSoup\n",
    "import numpy as np\n",
    "import math\n",
    "import matplotlib.pyplot as plt"
   ]
  },
  {
   "cell_type": "code",
   "execution_count": 164,
   "metadata": {},
   "outputs": [],
   "source": [
    "def nmdb_get(startdate, enddate, station=\"JUNG\"):\n",
    "    sy,sm,sd = str(startdate).split(\"-\")\n",
    "    ey,em,ed = str(enddate).split(\"-\")\n",
    "    url = \"http://nest.nmdb.eu/draw_graph.php?formchk=1&stations[]={station}&tabchoice=1h&dtype=corr_for_efficiency&tresolution=60&force=1&yunits=0&date_choice=bydate&start_day={sd}&start_month={sm}&start_year={sy}&start_hour=0&start_min=0&end_day={ed}&end_month={em}&end_year={ey}&end_hour=23&end_min=59&output=ascii&display_null=1\"\n",
    "    url = url.format(station=station, sd=sd, sm=sm, sy=sy, ed=ed, em=em, ey=ey)\n",
    "    response = urllib.request.urlopen(url)\n",
    "    html = response.read()\n",
    "    soup = BeautifulSoup(html, features=\"html.parser\")\n",
    "    pre = soup.find_all('pre')\n",
    "    pre = pre[0].text\n",
    "    pre = pre[pre.find('start_date_time'):]\n",
    "    pre = pre.replace(\"start_date_time   1HCOR_E\", \"\")\n",
    "    f = open(\"tmpV1.txt\", \"w\")\n",
    "    f.write(pre)\n",
    "    f.close()\n",
    "    df = open(\"tmpV1.txt\", \"r\")\n",
    "    lines = df.readlines()\n",
    "    df.close()\n",
    "    lines = lines[1:]\n",
    "    dfneut = pd.DataFrame(lines)\n",
    "    dfneut = dfneut[0].str.split(\";\", n = 2, expand = True)\n",
    "    cols = ['DATE', 'COUNT']\n",
    "    dfneut.columns = cols\n",
    "    dates = pd.to_datetime(dfneut['DATE'])\n",
    "    values = dfneut['COUNT']\n",
    "    \n",
    "    dfdict = dict(zip(dates,values))\n",
    "\n",
    "    return dfdict"
   ]
  },
  {
   "cell_type": "code",
   "execution_count": 165,
   "metadata": {},
   "outputs": [],
   "source": [
    "data0 = nmdb_get(\"2015-10-01\", \"2019-10-01\", \"JUNG\")"
   ]
  },
  {
   "cell_type": "code",
   "execution_count": 166,
   "metadata": {},
   "outputs": [],
   "source": [
    "data1 = list(data0.items())\n",
    "data_array = np.array(data1)"
   ]
  },
  {
   "cell_type": "code",
   "execution_count": 167,
   "metadata": {},
   "outputs": [],
   "source": [
    "df = pd.DataFrame(data_array)\n",
    "df.columns =['Dates', 'Values']\n",
    "df = df.replace('   null\\n',np.nan, regex=True)\n",
    "df = df.replace('\\n','', regex=True)"
   ]
  },
  {
   "cell_type": "code",
   "execution_count": 168,
   "metadata": {},
   "outputs": [
    {
     "data": {
      "text/html": [
       "<div>\n",
       "<style scoped>\n",
       "    .dataframe tbody tr th:only-of-type {\n",
       "        vertical-align: middle;\n",
       "    }\n",
       "\n",
       "    .dataframe tbody tr th {\n",
       "        vertical-align: top;\n",
       "    }\n",
       "\n",
       "    .dataframe thead th {\n",
       "        text-align: right;\n",
       "    }\n",
       "</style>\n",
       "<table border=\"1\" class=\"dataframe\">\n",
       "  <thead>\n",
       "    <tr style=\"text-align: right;\">\n",
       "      <th></th>\n",
       "      <th>Dates</th>\n",
       "      <th>Values</th>\n",
       "    </tr>\n",
       "  </thead>\n",
       "  <tbody>\n",
       "    <tr>\n",
       "      <th>0</th>\n",
       "      <td>2015-10-01 00:00:00</td>\n",
       "      <td>155.953</td>\n",
       "    </tr>\n",
       "    <tr>\n",
       "      <th>1</th>\n",
       "      <td>2015-10-01 01:00:00</td>\n",
       "      <td>156.033</td>\n",
       "    </tr>\n",
       "    <tr>\n",
       "      <th>2</th>\n",
       "      <td>2015-10-01 02:00:00</td>\n",
       "      <td>156.295</td>\n",
       "    </tr>\n",
       "    <tr>\n",
       "      <th>3</th>\n",
       "      <td>2015-10-01 03:00:00</td>\n",
       "      <td>155.664</td>\n",
       "    </tr>\n",
       "    <tr>\n",
       "      <th>4</th>\n",
       "      <td>2015-10-01 04:00:00</td>\n",
       "      <td>155.470</td>\n",
       "    </tr>\n",
       "  </tbody>\n",
       "</table>\n",
       "</div>"
      ],
      "text/plain": [
       "                Dates   Values\n",
       "0 2015-10-01 00:00:00  155.953\n",
       "1 2015-10-01 01:00:00  156.033\n",
       "2 2015-10-01 02:00:00  156.295\n",
       "3 2015-10-01 03:00:00  155.664\n",
       "4 2015-10-01 04:00:00  155.470"
      ]
     },
     "execution_count": 168,
     "metadata": {},
     "output_type": "execute_result"
    }
   ],
   "source": [
    "df.head()"
   ]
  },
  {
   "cell_type": "code",
   "execution_count": 169,
   "metadata": {},
   "outputs": [
    {
     "data": {
      "text/html": [
       "<div>\n",
       "<style scoped>\n",
       "    .dataframe tbody tr th:only-of-type {\n",
       "        vertical-align: middle;\n",
       "    }\n",
       "\n",
       "    .dataframe tbody tr th {\n",
       "        vertical-align: top;\n",
       "    }\n",
       "\n",
       "    .dataframe thead th {\n",
       "        text-align: right;\n",
       "    }\n",
       "</style>\n",
       "<table border=\"1\" class=\"dataframe\">\n",
       "  <thead>\n",
       "    <tr style=\"text-align: right;\">\n",
       "      <th></th>\n",
       "      <th>Dates</th>\n",
       "      <th>Values</th>\n",
       "    </tr>\n",
       "  </thead>\n",
       "  <tbody>\n",
       "    <tr>\n",
       "      <th>0</th>\n",
       "      <td>2015-10-01 00:00:00</td>\n",
       "      <td>155.953</td>\n",
       "    </tr>\n",
       "    <tr>\n",
       "      <th>1</th>\n",
       "      <td>2015-10-01 01:00:00</td>\n",
       "      <td>156.033</td>\n",
       "    </tr>\n",
       "    <tr>\n",
       "      <th>2</th>\n",
       "      <td>2015-10-01 02:00:00</td>\n",
       "      <td>156.295</td>\n",
       "    </tr>\n",
       "    <tr>\n",
       "      <th>3</th>\n",
       "      <td>2015-10-01 03:00:00</td>\n",
       "      <td>155.664</td>\n",
       "    </tr>\n",
       "    <tr>\n",
       "      <th>4</th>\n",
       "      <td>2015-10-01 04:00:00</td>\n",
       "      <td>155.470</td>\n",
       "    </tr>\n",
       "    <tr>\n",
       "      <th>...</th>\n",
       "      <td>...</td>\n",
       "      <td>...</td>\n",
       "    </tr>\n",
       "    <tr>\n",
       "      <th>35083</th>\n",
       "      <td>2019-10-01 19:00:00</td>\n",
       "      <td>167.388</td>\n",
       "    </tr>\n",
       "    <tr>\n",
       "      <th>35084</th>\n",
       "      <td>2019-10-01 20:00:00</td>\n",
       "      <td>167.596</td>\n",
       "    </tr>\n",
       "    <tr>\n",
       "      <th>35085</th>\n",
       "      <td>2019-10-01 21:00:00</td>\n",
       "      <td>166.891</td>\n",
       "    </tr>\n",
       "    <tr>\n",
       "      <th>35086</th>\n",
       "      <td>2019-10-01 22:00:00</td>\n",
       "      <td>166.706</td>\n",
       "    </tr>\n",
       "    <tr>\n",
       "      <th>35087</th>\n",
       "      <td>2019-10-01 23:00:00</td>\n",
       "      <td>167.357</td>\n",
       "    </tr>\n",
       "  </tbody>\n",
       "</table>\n",
       "<p>35088 rows × 2 columns</p>\n",
       "</div>"
      ],
      "text/plain": [
       "                    Dates   Values\n",
       "0     2015-10-01 00:00:00  155.953\n",
       "1     2015-10-01 01:00:00  156.033\n",
       "2     2015-10-01 02:00:00  156.295\n",
       "3     2015-10-01 03:00:00  155.664\n",
       "4     2015-10-01 04:00:00  155.470\n",
       "...                   ...      ...\n",
       "35083 2019-10-01 19:00:00  167.388\n",
       "35084 2019-10-01 20:00:00  167.596\n",
       "35085 2019-10-01 21:00:00  166.891\n",
       "35086 2019-10-01 22:00:00  166.706\n",
       "35087 2019-10-01 23:00:00  167.357\n",
       "\n",
       "[35088 rows x 2 columns]"
      ]
     },
     "metadata": {},
     "output_type": "display_data"
    }
   ],
   "source": [
    "display(df)"
   ]
  },
  {
   "cell_type": "code",
   "execution_count": 170,
   "metadata": {},
   "outputs": [],
   "source": [
    "from datetime import datetime"
   ]
  },
  {
   "cell_type": "code",
   "execution_count": 171,
   "metadata": {},
   "outputs": [],
   "source": [
    "df['Dates'] = df['Dates'].map(lambda x: datetime.strptime(str(x), '%Y-%m-%d %H:%M:%S'))\n",
    "x = df['Dates']\n",
    "y = df['Values']"
   ]
  },
  {
   "cell_type": "code",
   "execution_count": 172,
   "metadata": {},
   "outputs": [],
   "source": [
    "df.to_csv('JUNG20151001to20191001.txt', header=True, index=False, sep='\\t', mode='w+', na_rep='NaN')"
   ]
  },
  {
   "cell_type": "markdown",
   "metadata": {},
   "source": [
    "# --------------------------------------------------------------------"
   ]
  },
  {
   "cell_type": "code",
   "execution_count": 173,
   "metadata": {},
   "outputs": [
    {
     "data": {
      "text/html": [
       "<div>\n",
       "<style scoped>\n",
       "    .dataframe tbody tr th:only-of-type {\n",
       "        vertical-align: middle;\n",
       "    }\n",
       "\n",
       "    .dataframe tbody tr th {\n",
       "        vertical-align: top;\n",
       "    }\n",
       "\n",
       "    .dataframe thead th {\n",
       "        text-align: right;\n",
       "    }\n",
       "</style>\n",
       "<table border=\"1\" class=\"dataframe\">\n",
       "  <thead>\n",
       "    <tr style=\"text-align: right;\">\n",
       "      <th></th>\n",
       "      <th>Values</th>\n",
       "    </tr>\n",
       "    <tr>\n",
       "      <th>Datetime</th>\n",
       "      <th></th>\n",
       "    </tr>\n",
       "  </thead>\n",
       "  <tbody>\n",
       "    <tr>\n",
       "      <th>2015-10-01 00:00:00</th>\n",
       "      <td>155.953</td>\n",
       "    </tr>\n",
       "    <tr>\n",
       "      <th>2015-10-01 01:00:00</th>\n",
       "      <td>156.033</td>\n",
       "    </tr>\n",
       "    <tr>\n",
       "      <th>2015-10-01 02:00:00</th>\n",
       "      <td>156.295</td>\n",
       "    </tr>\n",
       "    <tr>\n",
       "      <th>2015-10-01 03:00:00</th>\n",
       "      <td>155.664</td>\n",
       "    </tr>\n",
       "    <tr>\n",
       "      <th>2015-10-01 04:00:00</th>\n",
       "      <td>155.470</td>\n",
       "    </tr>\n",
       "  </tbody>\n",
       "</table>\n",
       "</div>"
      ],
      "text/plain": [
       "                      Values\n",
       "Datetime                    \n",
       "2015-10-01 00:00:00  155.953\n",
       "2015-10-01 01:00:00  156.033\n",
       "2015-10-01 02:00:00  156.295\n",
       "2015-10-01 03:00:00  155.664\n",
       "2015-10-01 04:00:00  155.470"
      ]
     },
     "execution_count": 173,
     "metadata": {},
     "output_type": "execute_result"
    }
   ],
   "source": [
    "import matplotlib.pyplot as plt  # Display figures inline in Jupyter notebook\n",
    "import seaborn as sns            # Use seaborn style defaults and set the default figure size\n",
    "sns.set(rc={'figure.figsize':(11, 4)})\n",
    "import matplotlib.dates as mdates\n",
    "\n",
    "df['Datetime'] = pd.to_datetime(df['Dates'])\n",
    "df.set_index('Datetime', inplace=True)\n",
    "del df['Dates']\n",
    "df.head()"
   ]
  },
  {
   "cell_type": "code",
   "execution_count": 178,
   "metadata": {},
   "outputs": [
    {
     "data": {
      "text/plain": [
       "Text(0.5, 0, 'Date')"
      ]
     },
     "execution_count": 178,
     "metadata": {},
     "output_type": "execute_result"
    },
    {
     "data": {
      "image/png": "[encoded data removed]",
      "text/plain": [
       "<Figure size 792x288 with 1 Axes>"
      ]
     },
     "metadata": {},
     "output_type": "display_data"
    }
   ],
   "source": [
    "df['Values'] = df[\"Values\"].astype(float)\n",
    "ax = df['Values'].plot(linewidth=0.3)\n",
    "ax.set_ylabel('Count Rate')\n",
    "ax.set_xlabel('Date')"
   ]
  }
 ],
 "metadata": {
  "kernelspec": {
   "display_name": "Python 3 (ipykernel)",
   "language": "python",
   "name": "python3"
  },
  "language_info": {
   "codemirror_mode": {
    "name": "ipython",
    "version": 3
   },
   "file_extension": ".py",
   "mimetype": "text/x-python",
   "name": "python",
   "nbconvert_exporter": "python",
   "pygments_lexer": "ipython3",
   "version": "3.8.5"
  }
 },
 "nbformat": 4,
 "nbformat_minor": 4
}
